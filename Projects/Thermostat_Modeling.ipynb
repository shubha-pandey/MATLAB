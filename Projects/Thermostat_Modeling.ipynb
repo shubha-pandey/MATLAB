{
 "cells": [
  {
   "cell_type": "markdown",
   "metadata": {},
   "source": [
    "## Modeling a Thermostat\n",
    "\n",
    "A first order cooling equation could represent the temperature dynamics of a house.    \n",
    "To keep the house comfortable, to control the temperature, using some strategy based on the current and desired temperatures. This is called a **control system**, and is exactly what a `thermostat` is!    \n",
    "Since most controllers are digital, they are often modeled as _discrete systems_."
   ]
  },
  {
   "cell_type": "markdown",
   "metadata": {},
   "source": [
    "The equations for a discrete PI controller are, \n",
    "\n",
    "Proportional-integral control:\n",
    "\n",
    "$y[k]=y_p[k]+y_i[k]$\n",
    "\n",
    "where:\n",
    "\n",
    "$y_p[k]=K_pe[k]$\n",
    "\n",
    "$y_i[k]=K_iT_se[k]+y_i[k−1]$\n",
    "\n",
    "\n",
    "The design variables, `Kp` and `Ki`, and the sample time, `Ts`, have been defined in the MATLAB workspace.\n",
    " \n",
    "In this project, it's required to build the signal for $y_i[k]$ and combine it with the existing signal for $y_p[k]$ to create the controller."
   ]
  },
  {
   "cell_type": "markdown",
   "metadata": {},
   "source": [
    "1. Add another `Gain` block to the model and set its value to `Ki*Ts`. Branch `e_k` and connect it to the Gain block just created, to create the term $K_iT_se[k]$."
   ]
  },
  {
   "cell_type": "markdown",
   "metadata": {},
   "source": [
    "2. Add the appropriate number of `Unit Delay` blocks to the model to represent the integrator term, $y_i[k−1]$. No need to make any connections yet."
   ]
  },
  {
   "cell_type": "markdown",
   "metadata": {},
   "source": [
    "As a reminder, it is helpful to create _stubs_ and _label_ the signals entering and leaving Unit Delay blocks.\n",
    "\n",
    "3. Create stubs on the Unit Delay block. Label the appropriate signals `yi_k` and `yi_kminus1`."
   ]
  },
  {
   "cell_type": "markdown",
   "metadata": {},
   "source": [
    "4. Use an `Add` block to sum the terms of the integrator equation, $K_iT_se[k]+y_i[k−1]$. Do not make any other connections yet."
   ]
  },
  {
   "cell_type": "markdown",
   "metadata": {},
   "source": [
    "5. Make the connections that complete the integrator equation $y_i[k]=K_iT_se[k]+y_i[k−1]$. (Do not connect $y_p[k]$ yet.) Branch `yi_k` to the Signal Assessment block."
   ]
  },
  {
   "cell_type": "markdown",
   "metadata": {},
   "source": [
    "The controller output is the combined output of the proportional and integral terms:   \n",
    "  \n",
    "$y[k]=y_i[k]+y_p[k]$.\n",
    "\n",
    "6. Add the signals `yp_k` and `yi_k` to create `y[k]`.    \n",
    "Connect `y[k]` to the input port of the House subsystem.     \n",
    "Branch and connect the `temperature`, `meas_temp`, to the Signal Assessment block."
   ]
  },
  {
   "cell_type": "markdown",
   "metadata": {},
   "source": [
    "The last step in modeling difference equations is to set any _initial conditions_ and _sample times_ of the Unit Delay blocks.\n",
    "\n",
    "7. Set the `Sample time` to `Ts`. Use the default Initial condition of `0`."
   ]
  },
  {
   "cell_type": "markdown",
   "metadata": {},
   "source": [
    "Hence, modeled a discrete, proportional-integral controller in Simulink.    \n",
    "Try changing the values of $K_p $, $K_i$ , and $T_s$ to see how they affect the controller output."
   ]
  },
  {
   "cell_type": "markdown",
   "metadata": {},
   "source": [
    "![image.png](./Results/Thermostat.png)"
   ]
  }
 ],
 "metadata": {
  "language_info": {
   "name": "python"
  }
 },
 "nbformat": 4,
 "nbformat_minor": 2
}
