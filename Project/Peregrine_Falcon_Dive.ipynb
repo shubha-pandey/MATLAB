{
 "cells": [
  {
   "cell_type": "markdown",
   "metadata": {},
   "source": [
    "## Peregrine Falcon Dive\n",
    "\n",
    "When diving for prey, the Peregrine falcon can reach speeds up to _350 km/h_. As the falcon dives, the two forces acting on it are _gravity_ and _air drag_. \n",
    "\n",
    "The equation of motion for this is:    \n",
    "    \n",
    "$m \\dot v=\\frac 12 ρ C_d A v^2 − mg$\n",
    "\n",
    "As it approaches the ground, however, it changes the angle of its wings, increasing drag, to rapidly decelerate to a safe landing speed. This can be modeled by a change in the area, `A`, and drag coefficient, $C_d$. \n",
    "\n",
    "In this project,  model this behavior in Simulink in two parts. \n",
    "* First, model the equation of motion for a given set of drag parameters. \n",
    "* Then, model the wings opening to slow the bird down."
   ]
  },
  {
   "cell_type": "markdown",
   "metadata": {},
   "source": [
    "Begin by modeling the equation,  \n",
    "\n",
    "$m \\dot v=\\frac 12 ρ C_d A v^2 − mg$     \n",
    "\n",
    "Assuming a fixed wing area, `A`, and drag coefficient, $C_d$.     \n",
    "The constants, `rho`, `g`, `Cd`, `m`, and `A`, should be defined as variables in the MATLAB workspace.\n",
    "\n",
    "1. Add the appropriate number of `Integrator` blocks to the model.    \n",
    "Create _stubs_ of the signals and label them appropriately, following the notation `v`, `v_dot`, for successive derivatives."
   ]
  },
  {
   "cell_type": "markdown",
   "metadata": {},
   "source": [
    "Next, create the _drag_ term,    \n",
    "\n",
    "$\\frac 12 ρ C_d A v^2$\n",
    "\n",
    "2. Use a `Math Function` block to square the velocity signal (`v`).    \n",
    "Add a `Constant` block with the value: `0.5*rho*Cd*A`.     \n",
    "Multiply these two signals using a `Product` block."
   ]
  },
  {
   "cell_type": "markdown",
   "metadata": {},
   "source": [
    "**_Note_** : Steps _2_ and _3_ can be achieved with a _Gain_ block. However, to support the future logic for changing parameters mid-flight, use a Product block (Simulink > Math Operations)."
   ]
  },
  {
   "cell_type": "markdown",
   "metadata": {},
   "source": [
    "The right side of the equation, $ \\frac 12 ρ C_d A v^2 − mg$, also contains the _gravity_ term.\n",
    "\n",
    "3. Add a `Constant` block with the value `m*g`.     \n",
    "Use a `Subtract` block to construct the right side of the equation, incorporating the result of the previous task."
   ]
  },
  {
   "cell_type": "markdown",
   "metadata": {},
   "source": [
    "The next step is to equate the left and right sides of the equation of motion.    \n",
    "Since there's already a signal for $\\dot v$, it is useful to rearrange the equation as:   \n",
    "\n",
    "$ \\dot v = \\frac 1m (\\frac 12 ρ C_d A v^2 − mg) $\n",
    "\n",
    "In this form, it can be seen that the existing signal need to be multiplied by 1/m.\n",
    "\n",
    "4. Add a `Gain` block with the value `1/m`, and connect it to the output of the `Subtract` block."
   ]
  },
  {
   "cell_type": "markdown",
   "metadata": {},
   "source": [
    "5. Connect the unconnected port of the `Gain` block to the signal `v_dot` to create the equality.     \n",
    "Branch the velocity signal (`v`) to the Signal Assessment block."
   ]
  },
  {
   "cell_type": "markdown",
   "metadata": {},
   "source": [
    "The final step in modeling dynamic systems is always to set the _initial conditions_.\n",
    "\n",
    "6. Set the Initial condition for velocity to `-10` (m/s)."
   ]
  },
  {
   "cell_type": "markdown",
   "metadata": {},
   "source": [
    "Up until now, the dive of a peregrine falcon is modeled with fixed parameters.   \n",
    "\n",
    "Next, add the logic to describe the falcon opening its wings and decelerating.\n",
    "\n",
    "**_Note_** : It is helpful to organize all of the states and integrators in a single row, with coefficients and other terms arranged below. This allows to quickly characterize the system."
   ]
  },
  {
   "cell_type": "markdown",
   "metadata": {},
   "source": [
    "7. Add a `Switch` block to the model. This will select the appropriate coefficients for the _drag_ term, so connect the output of the Switch to the input of the `Product` block.\n",
    " \n",
    "**_Note_**: Mirror the block so its output faces the Product block. Do this through the context (right-click) menu, or by selecting it and pressing Ctrl+i on the keyboard."
   ]
  },
  {
   "cell_type": "markdown",
   "metadata": {},
   "source": [
    "The falcon opens its wings when it senses that it is near the ground.    \n",
    "Assume this occurs at a height of 15 meters. That behavior is described as follows: \n",
    "``` python  \n",
    "if h ≥ 15 m    \n",
    "     Cd = Cd1, A = A1   \n",
    "else   \n",
    "     Cd = Cd2, A = A2   \n",
    "end   \n",
    "```\n",
    "\n",
    "8. Copy and paste the `Constant` block named Low Drag. Rename it to `High Drag` and change its value to `0.5*rho*Cd2*A2`.     \n",
    "Connect the constants to the appropriate data inputs, remembering that the first port evaluates if the condition specified is true."
   ]
  },
  {
   "cell_type": "markdown",
   "metadata": {},
   "source": [
    "The _switch condition_ depends on _height_, but the only states in the model are acceleration and velocity. Another Integrator block is required.\n",
    "\n",
    "9. Add a second `Integrator` to the model.    \n",
    "Branch `v` to the input of the Integrator.    \n",
    "Create a signal stub leaving this Integrator and label it `h`."
   ]
  },
  {
   "cell_type": "markdown",
   "metadata": {},
   "source": [
    "The output of this last integrator is the falcon's height, which is the signal that drives the switch condition.\n",
    "\n",
    "10. Connect the height to the control signal (middle port) of the Switch block.    \n",
    "Double-click the Switch block and set the following parameters:    Criteria for passing first input: u2 `>=` Threshold: `15`   \n",
    "Branch the height signal, `h`, to the Signal Assessment block."
   ]
  },
  {
   "cell_type": "markdown",
   "metadata": {},
   "source": [
    "Since a new Integrator block is added, set its initial condition as well.\n",
    "\n",
    "11. Set the Initial condition to `60` (m)."
   ]
  },
  {
   "cell_type": "markdown",
   "metadata": {},
   "source": [
    "At these speeds, a falcon's dive is over in just a few seconds.\n",
    "\n",
    "\n",
    "12. Change the simulation Stop time to `2.5`."
   ]
  },
  {
   "cell_type": "markdown",
   "metadata": {},
   "source": [
    "The behavior of the _Switch_ block depends on _height_, but has a strong effect on _velocity_ as well. Use a _Scope_ to compare the two signals.\n",
    "\n",
    "13. Add a `Scope` block to the model. Connect the velocity, `v`, and the height, `h`, to it.      \n",
    "Turn on the Scope legend to identify the signals."
   ]
  },
  {
   "cell_type": "markdown",
   "metadata": {},
   "source": [
    "![image.png](./Results/Falcon_Drive.png)"
   ]
  },
  {
   "cell_type": "markdown",
   "metadata": {},
   "source": [
    "Now you have a model of the peregrine falcon's height and velocity over time, accounting for both wing configurations.     \n",
    "\n",
    "Try changing parameters in the model to test their effect on the physical system."
   ]
  }
 ],
 "metadata": {
  "language_info": {
   "name": "python"
  }
 },
 "nbformat": 4,
 "nbformat_minor": 2
}
