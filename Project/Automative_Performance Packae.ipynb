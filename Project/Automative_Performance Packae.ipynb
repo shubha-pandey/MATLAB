{
 "cells": [
  {
   "cell_type": "markdown",
   "metadata": {},
   "source": [
    "## Automative Performance Package\n",
    "In this project,  simulate the logic for an automotive performance package. Vehicles today have dozens of computers that together adjust the car's behavior in response to data read by hundreds of sensors.     \n",
    "In this simplified system, assume that you are responding to two sensors —speed and lateral acceleration—to decide between a \"high performance\" and \"economy\" mode."
   ]
  },
  {
   "cell_type": "markdown",
   "metadata": {},
   "source": [
    "In order to simulate the sensor data, the model uses a block that isn't seen yet: the `Signal Editor` block.   \n",
    "Signal Editor is just another type of source, like Sine Wave or Ramp. Inspect these signals by adding a Scope to the model.\n",
    "\n",
    "The Signal Editor block provides a source of simulated data. The block's first port outputs speed, and the second port outputs lateral acceleration."
   ]
  },
  {
   "cell_type": "markdown",
   "metadata": {},
   "source": [
    "First pre-process the input data.    \n",
    "In particular, take the _absolute_ value of _lateral acceleration_, since left and right turns should be treated the same.\n",
    "\n",
    "1. Add an `Abs` (Simulink > Math Operations) block to take the absolute value of lateral acceleration."
   ]
  },
  {
   "cell_type": "markdown",
   "metadata": {},
   "source": [
    "The logic for choosing a driving mode is described by the following pseudocode.   \n",
    "``` python\n",
    "if (speed ≥ 100 km/h) OR (speed ≥ 35 km/h AND abs(lateral acceleration) ≥ 3 m/s2) \n",
    "    use mode 2\n",
    "else\n",
    "    use mode 1   \n",
    "end\n",
    "```  \n",
    "Model the boolean statements first, then add the logic.\n",
    "\n",
    "2. Add three `Compare to Constant` blocks to the model.    \n",
    "Set their conditions to `≥ 100`, `≥ 35` and, `≥ 3 `.    \n",
    "Connect the blocks to their appropriate signals (e.g. ≥ 3 is related to acceleration). \n",
    "\n",
    "\n",
    "**_Note_** : Right-click + drag branches a signal."
   ]
  },
  {
   "cell_type": "markdown",
   "metadata": {},
   "source": [
    "3. Add a `Logical Operator` block to the model.   \n",
    "Use the default Operator, `AND`.    \n",
    "Connect the appropriate Compare to Constant blocks to create the statement: `speed ≥ 35 km/h AND abs(lat. accel.) ≥ 3 m/s2`      \n",
    "Connect the output of the AND block to the Signal Assessment block."
   ]
  },
  {
   "cell_type": "markdown",
   "metadata": {},
   "source": [
    "The final step is to add the logical statement, replicated here:  \n",
    "``` python   \n",
    "if (speed ≥ 100 km/h) OR (speed ≥ 35 km/h AND abs(lat. accel.) ≥ 3 m/s2)\n",
    "    use mode 2    \n",
    "else   \n",
    "    use mode 1   \n",
    "end\n",
    "```\n",
    "\n",
    "4. Add a `Switch` block to the model and connect the output from the previous task to the control signal.    \n",
    "Add two `Constant` blocks, with values `1` and `2`, to represent the driving modes.     \n",
    "Connect the blocks to the appropriate locations on the `Switch` block."
   ]
  },
  {
   "cell_type": "markdown",
   "metadata": {},
   "source": [
    "Successfully modeled the logic for choosing a driving mode based on speed and acceleration data. To verify that this is performing as expected, try adding a `Scope` block to the model.\n",
    " \n",
    "Use the Scope to view three signals in the same window: speed in km/h, acceleration, and the mode choice.    \n",
    "Plot the signals on separate axes using the View > Layout menu in the Scope toolbar."
   ]
  },
  {
   "cell_type": "markdown",
   "metadata": {},
   "source": [
    "![image.png](./Results/Automative_Modes.png)"
   ]
  }
 ],
 "metadata": {
  "language_info": {
   "name": "python"
  }
 },
 "nbformat": 4,
 "nbformat_minor": 2
}
